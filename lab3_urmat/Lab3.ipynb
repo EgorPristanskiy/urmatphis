{
 "cells": [
  {
   "cell_type": "code",
   "execution_count": 1,
   "metadata": {},
   "outputs": [],
   "source": [
    "import numpy as np\n",
    "import pandas as pd"
   ]
  },
  {
   "cell_type": "code",
   "execution_count": 83,
   "metadata": {},
   "outputs": [],
   "source": [
    "class Lab3(object):\n",
    "    def __init__(self, start_condition_function, x_equation, y_equation, start_x, end_x, step, second_equation_value, end_y):\n",
    "        self._x_values = self.get_x_values(start_x, end_x, step)\n",
    "        self._end_x = end_x\n",
    "        self._start_condition_function = start_condition_function\n",
    "        self._step = step\n",
    "        self._x_equation = x_equation\n",
    "        self._y_eqution = y_equation\n",
    "        self._second_equation_value = second_equation_value\n",
    "        self._end_y = end_y\n",
    "    \n",
    "    def get_x_values(self, start_x, end_x, step):\n",
    "        return np.arange(start_x, end_x, step)\n",
    "    \n",
    "    def _get_left_first_derivative_coefficients(self):\n",
    "        return np.array([-1./self._step, 1./self._step])\n",
    "    \n",
    "    def get_first_equation(self):\n",
    "        return self._start_condition_function(self._get_left_first_derivative_coefficients)\n",
    "    \n",
    "    def _get_mid_first_equation(self):\n",
    "        return np.array([-1./(2.*self._step), 0, 1./(2.*self._step)])\n",
    "    \n",
    "    def _get_second_derivative_coefficients(self):\n",
    "        return np.array([1./self._step**2, -2./self._step**2, 1./self._step**2])\n",
    "    \n",
    "    def _get_y_coefficients(self):\n",
    "        return np.array([0., 1., 0.])\n",
    "    \n",
    "    def get_equation(self, x_value):\n",
    "        second_derivative_coefficients = self._get_second_derivative_coefficients()\n",
    "        first_derivative_value = self._x_equation(x_value) * self._get_mid_first_equation()\n",
    "        y_equation_coefficients = self._y_eqution(x_value) * self._get_y_coefficients()\n",
    "#         print(\"----------------------\")\n",
    "#         print(second_derivative_coefficients)\n",
    "#         print(first_derivative_value)\n",
    "#         print(y_equation_coefficients)\n",
    "#         print(\"----------------------\")\n",
    "        return second_derivative_coefficients + first_derivative_value + y_equation_coefficients, self._second_equation_value\n",
    "    \n",
    "    def get_second_equation(self):\n",
    "        return self.get_equation(self._x_values[1])\n",
    "    \n",
    "    def get_third_equation(self):\n",
    "        coefficients, value = self.get_equation(self._x_values[2])\n",
    "        value -= coefficients[2]*self._end_y\n",
    "        return coefficients[:-1], value\n",
    "    \n",
    "    def main(self):\n",
    "        coefficients, value = self.get_first_equation()\n",
    "        print(\"{:.1f}Y0+{:.1f}Y1 = {:.1f}\".format(coefficients[0], coefficients[1], value))\n",
    "        coefficients, value = self.get_second_equation()\n",
    "        print(\"{:.1f}Y0{:.2f}Y1 + {:.1f}Y2 = {:.1f}\".format(coefficients[0], coefficients[1], coefficients[2], value))\n",
    "        coefficients, value = self.get_third_equation()\n",
    "        print(\"{:.1f}Y0{:.2f}Y1 = {:.1f}\".format(coefficients[0], coefficients[1], value))"
   ]
  },
  {
   "cell_type": "code",
   "execution_count": 84,
   "metadata": {},
   "outputs": [
    {
     "name": "stdout",
     "output_type": "stream",
     "text": [
      "-19.0Y0+20.0Y1 = 1.0\n",
      "89.5Y0-200.24Y1 + 110.5Y2 = 1.0\n",
      "89.0Y0-200.23Y1 = -237.6\n"
     ]
    }
   ],
   "source": [
    "def start_condition(derivative):\n",
    "    return 2*derivative() + np.array([1., 0.]), 1.\n",
    "\n",
    "def x_equation(x):\n",
    "    return x\n",
    "\n",
    "def y_equation(x):\n",
    "    return -0.5/x\n",
    "\n",
    "start_x = 2.\n",
    "end_x = 2.3\n",
    "end_y = 2.15\n",
    "function_value = 1.\n",
    "step = 0.1\n",
    "test = Lab3(start_condition, x_equation, y_equation, start_x, end_x, step, function_value, end_y)\n",
    "test.main()"
   ]
  },
  {
   "cell_type": "code",
   "execution_count": null,
   "metadata": {},
   "outputs": [],
   "source": []
  }
 ],
 "metadata": {
  "kernelspec": {
   "display_name": "Python 3",
   "language": "python",
   "name": "python3"
  },
  "language_info": {
   "codemirror_mode": {
    "name": "ipython",
    "version": 3
   },
   "file_extension": ".py",
   "mimetype": "text/x-python",
   "name": "python",
   "nbconvert_exporter": "python",
   "pygments_lexer": "ipython3",
   "version": "3.5.2"
  }
 },
 "nbformat": 4,
 "nbformat_minor": 4
}
