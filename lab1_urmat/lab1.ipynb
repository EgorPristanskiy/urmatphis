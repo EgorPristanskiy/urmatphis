{
 "cells": [
  {
   "cell_type": "markdown",
   "metadata": {},
   "source": [
    "## Метод Рунге-Кутты"
   ]
  },
  {
   "cell_type": "code",
   "execution_count": 1,
   "metadata": {},
   "outputs": [],
   "source": [
    "import numpy as np\n",
    "import pandas as pd"
   ]
  },
  {
   "cell_type": "code",
   "execution_count": 54,
   "metadata": {},
   "outputs": [],
   "source": [
    "class Lab8(object):\n",
    "    def __init__(self, left_border, right_border, y_value, number_of_iteration, function_f, function_c):\n",
    "        self._number_of_iteration = number_of_iteration\n",
    "        self._step = (right_border - left_border) / float(number_of_iteration)\n",
    "        self._left_border = left_border\n",
    "        self._right_border = right_border\n",
    "        self._x_values = self._get_x_value()\n",
    "        self._y_value = y_value\n",
    "        self._function_f = function_f\n",
    "        self._function_c = function_c\n",
    "        self._answer = {\"X\": [], \n",
    "                        \"Y\": [],\n",
    "                        \"C\": []}\n",
    "    \n",
    "    def _get_x_value(self):\n",
    "        return np.linspace(self._left_border, self._right_border, self._number_of_iteration+1)\n",
    "    \n",
    "    def calculate(self):\n",
    "        for x in self._x_values:\n",
    "            c = self._function_c(x, self._y_value)\n",
    "            self._answer[\"X\"].append(x)\n",
    "            self._answer[\"C\"].append(c)\n",
    "            self._answer[\"Y\"].append(self._y_value)\n",
    "            self._y_value += self.calculate_delta_y(x, self._y_value)\n",
    "    \n",
    "    def calculate_k1(self, x, y):\n",
    "        return self._function_f(x, y)\n",
    "    \n",
    "    def calculate_k2(self, x, y, k1):\n",
    "        return self._function_f(x + self._step/2., y+self._step*k1/2.)\n",
    "    \n",
    "    def calculate_k3(self, x,y, k2):\n",
    "        return self.calculate_k2(x, y, k2)\n",
    "    \n",
    "    def calculate_k4(self, x, y, k3):\n",
    "        return self._function_f(x+self._step, y+self._step*k3)\n",
    "    \n",
    "    def calculate_delta_y(self, x, y):\n",
    "        k1 = self.calculate_k1(x,y)\n",
    "        k2 = self.calculate_k2(x, y, k1)\n",
    "        k3 = self.calculate_k3(x, y, k2)\n",
    "        k4 = self.calculate_k4(x, y, k3)\n",
    "\n",
    "        return (self._step/6.) * (k1 + 2.*k2 + 2.*k3 + k4)\n",
    "    \n",
    "    def main(self):\n",
    "        self.calculate()\n",
    "        answer_table = pd.DataFrame(self._answer, columns=['X', 'Y', 'C'])\n",
    "        print(answer_table)"
   ]
  },
  {
   "cell_type": "markdown",
   "metadata": {},
   "source": [
    "## $$y\\prime = \\cfrac{1}{x} \\cfrac{-4 y^2 + 6y -7}{4 y - 3}$$\n",
    "## $$C = x^2(4y^2 - 6y + 7)$$"
   ]
  },
  {
   "cell_type": "code",
   "execution_count": 62,
   "metadata": {},
   "outputs": [
    {
     "name": "stdout",
     "output_type": "stream",
     "text": [
      "      X         Y          C\n",
      "0   1.0  3.000000  25.000000\n",
      "1   1.1  2.744439  24.999993\n",
      "2   1.2  2.525606  24.999987\n",
      "3   1.3  2.334526  24.999983\n",
      "4   1.4  2.164664  24.999981\n",
      "5   1.5  2.011061  24.999979\n",
      "6   1.6  1.869779  24.999979\n",
      "7   1.7  1.737486  24.999979\n",
      "8   1.8  1.611110  24.999980\n",
      "9   1.9  1.487428  24.999981\n",
      "10  2.0  1.362371  24.999980\n"
     ]
    }
   ],
   "source": [
    "def function_f(x, y):\n",
    "    return (1. / x) * ((-4 * (y**2) + 6 * y -7) / (4 * y - 3)) \n",
    "\n",
    "def function_c(x, y):\n",
    "    return x**2 * (4 * (y**2) - 6 * y +7)\n",
    "\n",
    "left_border = 1.\n",
    "right_border = 2.\n",
    "number_of_iteration = 10\n",
    "y_value = 3.\n",
    "test = Lab8(left_border, right_border, y_value, number_of_iteration, function_f, function_c)\n",
    "test.main()"
   ]
  }
 ],
 "metadata": {
  "kernelspec": {
   "display_name": "Python 3",
   "language": "python",
   "name": "python3"
  },
  "language_info": {
   "codemirror_mode": {
    "name": "ipython",
    "version": 3
   },
   "file_extension": ".py",
   "mimetype": "text/x-python",
   "name": "python",
   "nbconvert_exporter": "python",
   "pygments_lexer": "ipython3",
   "version": "3.5.2"
  }
 },
 "nbformat": 4,
 "nbformat_minor": 4
}
