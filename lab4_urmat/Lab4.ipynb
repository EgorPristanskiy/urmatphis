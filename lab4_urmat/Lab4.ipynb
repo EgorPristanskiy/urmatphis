{
 "cells": [
  {
   "cell_type": "markdown",
   "metadata": {},
   "source": [
    "##  Решение уравнения Лапласа"
   ]
  },
  {
   "cell_type": "code",
   "execution_count": 1,
   "metadata": {},
   "outputs": [],
   "source": [
    "import numpy as np\n",
    "import matplotlib.pyplot as plt"
   ]
  },
  {
   "cell_type": "code",
   "execution_count": 8,
   "metadata": {},
   "outputs": [],
   "source": [
    "class Lab4(object):\n",
    "    def __init__(self, number_of_rows, accuracy, input_tempreture_field=None):\n",
    "        self.__number_of_rows = number_of_rows+1\n",
    "        self.__accuracy = accuracy\n",
    "        self._input_tempreture_field = np.zeros((self.__number_of_rows, self.__number_of_rows))\n",
    "        if input_tempreture_field is None:\n",
    "            for i in range(self.__number_of_rows):\n",
    "                for j in range(self.__number_of_rows):\n",
    "                    print(\"Введите значение сегмента поля\")\n",
    "                    self._input_tempreture_field[i][j] = int(input())\n",
    "        else:\n",
    "            self._input_tempreture_field = input_tempreture_field\n",
    "        for i in range(1, self.__number_of_rows-1, 1):\n",
    "            for j in range(1, self.__number_of_rows-1, 1):\n",
    "                self._input_tempreture_field[i][j] = 0.\n",
    "    \n",
    "    @staticmethod\n",
    "    def __calculate_new_tempreture_segment_value(tempreture_field, i, j):\n",
    "        new_value = (tempreture_field[i-1][j] + tempreture_field[i+1][j] + tempreture_field[i][j-1] + tempreture_field[i][j+1])/4.\n",
    "        return new_value\n",
    "    \n",
    "    def __solve(self):\n",
    "        check_variable = 100.\n",
    "        while check_variable > self.__accuracy:\n",
    "            check_variable = 0.\n",
    "            for i in range(1, self.__number_of_rows-1, 1):\n",
    "                for j in range(1, self.__number_of_rows-1, 1):\n",
    "                    previous_value = self._input_tempreture_field[i][j]\n",
    "                    self._input_tempreture_field[i][j] =\\\n",
    "                                                    self.__calculate_new_tempreture_segment_value(self._input_tempreture_field, i, j)\n",
    "                    delta = np.abs(previous_value - self._input_tempreture_field[i][j])\n",
    "                    if delta > check_variable:\n",
    "                        check_variable = delta\n",
    "        return self._input_tempreture_field.copy()\n",
    "    \n",
    "    def __print_results(self):\n",
    "        print(\"Полученное поле\")\n",
    "        print(self._input_tempreture_field)\n",
    "    \n",
    "    def main(self):\n",
    "        self.__solve()\n",
    "        self.__print_results()\n",
    "        i = np.arange(0, self.__number_of_rows+1, 1)\n",
    "        j = np.arange(0, self.__number_of_rows+1, 1)\n",
    "        plt.pcolormesh(i,j,self._input_tempreture_field)\n",
    "        plt.show()"
   ]
  },
  {
   "cell_type": "code",
   "execution_count": 9,
   "metadata": {},
   "outputs": [
    {
     "name": "stdout",
     "output_type": "stream",
     "text": [
      "Полученное поле\n",
      "[[50.         60.         65.         70.        ]\n",
      " [40.         49.58318996 58.04159498 67.        ]\n",
      " [30.         40.29159498 50.58329749 61.        ]\n",
      " [20.         31.         43.         55.        ]]\n"
     ]
    },
    {
     "data": {
      "image/png": "[encoded data removed]",
      "text/plain": [
       "<Figure size 432x288 with 1 Axes>"
      ]
     },
     "metadata": {
      "needs_background": "light"
     },
     "output_type": "display_data"
    }
   ],
   "source": [
    "number_of_rows = 3\n",
    "accuracy = 0.001\n",
    "input_tempreture_field = np.array([[50., 60., 65., 70.], \n",
    "                                   [40., 0., 0.,  67.],\n",
    "                                   [30, 0., 0., 61.],\n",
    "                                   [20., 31., 43., 55.]])\n",
    "test = Lab4(number_of_rows=number_of_rows, input_tempreture_field=input_tempreture_field, accuracy=accuracy)\n",
    "test.main()"
   ]
  }
 ],
 "metadata": {
  "kernelspec": {
   "display_name": "Python 3",
   "language": "python",
   "name": "python3"
  },
  "language_info": {
   "codemirror_mode": {
    "name": "ipython",
    "version": 3
   },
   "file_extension": ".py",
   "mimetype": "text/x-python",
   "name": "python",
   "nbconvert_exporter": "python",
   "pygments_lexer": "ipython3",
   "version": "3.6.9"
  }
 },
 "nbformat": 4,
 "nbformat_minor": 4
}
